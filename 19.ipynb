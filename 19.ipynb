{
 "cells": [
  {
   "cell_type": "code",
   "execution_count": 5,
   "id": "18164e7a-6107-4073-9e0a-4b120ef004d7",
   "metadata": {},
   "outputs": [],
   "source": [
    "#!pip install opencv-python"
   ]
  },
  {
   "cell_type": "code",
   "execution_count": 7,
   "id": "030642c6-d0d3-4a9f-b520-b88e5b73f917",
   "metadata": {},
   "outputs": [
    {
     "name": "stdout",
     "output_type": "stream",
     "text": [
      "[[[63 97 86]\n",
      "  [57 89 78]\n",
      "  [60 83 75]\n",
      "  ...\n",
      "  [27 51 43]\n",
      "  [27 51 43]\n",
      "  [27 51 43]]\n",
      "\n",
      " [[46 78 67]\n",
      "  [50 80 69]\n",
      "  [61 84 76]\n",
      "  ...\n",
      "  [27 51 43]\n",
      "  [27 51 43]\n",
      "  [27 51 43]]\n",
      "\n",
      " [[69 96 86]\n",
      "  [67 92 82]\n",
      "  [66 89 81]\n",
      "  ...\n",
      "  [27 51 43]\n",
      "  [27 51 43]\n",
      "  [27 51 43]]\n",
      "\n",
      " ...\n",
      "\n",
      " [[19 47 41]\n",
      "  [17 48 41]\n",
      "  [19 47 41]\n",
      "  ...\n",
      "  [ 9 58 26]\n",
      "  [ 8 58 26]\n",
      "  [ 9 58 26]]\n",
      "\n",
      " [[17 48 41]\n",
      "  [15 48 41]\n",
      "  [17 48 41]\n",
      "  ...\n",
      "  [10 61 27]\n",
      "  [ 8 62 27]\n",
      "  [ 9 60 26]]\n",
      "\n",
      " [[15 48 41]\n",
      "  [15 48 41]\n",
      "  [15 48 41]\n",
      "  ...\n",
      "  [11 65 30]\n",
      "  [10 64 29]\n",
      "  [10 64 29]]]\n"
     ]
    }
   ],
   "source": [
    "# Import thư viện\n",
    "import cv2\n",
    "# Đọc một ảnh (nhan TAB de nhin autocomplete\n",
    "path = 'C:/bai tap it/hinhanh/hinh1.JPG'\n",
    "img = cv2.imread(path)\n",
    "# In thông tin của ảnh\n",
    "print(img)"
   ]
  },
  {
   "cell_type": "code",
   "execution_count": 16,
   "id": "3d1e5778-85bb-4858-8716-bcd49bc98403",
   "metadata": {},
   "outputs": [
    {
     "name": "stdout",
     "output_type": "stream",
     "text": [
      "(1080, 2167, 3)\n",
      "1080\n",
      "2167\n",
      "3\n"
     ]
    }
   ],
   "source": [
    "# Lấy kích thước\n",
    "print(img.shape)\n",
    "x, y, z = img.shape\n",
    "print(x)\n",
    "print(y)\n",
    "print(z)"
   ]
  },
  {
   "cell_type": "code",
   "execution_count": 23,
   "id": "277efa12-74db-4274-8531-ac55be4d7c50",
   "metadata": {},
   "outputs": [],
   "source": [
    "# Hiển thị ảnh\n",
    "cv2.imshow('Window', img)\n",
    "# Chờ một khoảng thời gian\n",
    "cv2.waitKey(10000)\n",
    "# Đóng Window\n",
    "cv2.destroyWindow('Window')"
   ]
  },
  {
   "cell_type": "code",
   "execution_count": 9,
   "id": "328f651d-a12e-496e-a9be-ab56899f9dd6",
   "metadata": {},
   "outputs": [],
   "source": [
    "# Tách màu\n",
    "b, g, r = cv2.split(img)\n",
    "cv2.imshow('Window', img)\n",
    "cv2.imshow('Red', r)\n",
    "cv2.imshow('Green', g)\n",
    "cv2.imshow('Blue', b)"
   ]
  },
  {
   "cell_type": "code",
   "execution_count": 11,
   "id": "8d99a376-617f-4992-8fb3-c923b9d57f37",
   "metadata": {},
   "outputs": [],
   "source": [
    "# Chờ một khoảng thời gian\n",
    "cv2.waitKey(0)\n",
    "# Đóng Window\n",
    "cv2.destroyAllWindows()"
   ]
  },
  {
   "cell_type": "code",
   "execution_count": 19,
   "id": "1428853f-e0e3-4b1e-be1a-8a42312f1dac",
   "metadata": {},
   "outputs": [],
   "source": [
    "gray_img = cv2.cvtColor(img, cv2.COLOR_BGR2GRAY)\n",
    "img_2 = cv2.cvtColor(img, cv2.COLOR_BGR2RGB)\n",
    "cv2.imshow('Window', img)\n",
    "cv2.imshow('gray_img', gray_img)\n",
    "cv2.imshow('img_2', img_2)"
   ]
  },
  {
   "cell_type": "code",
   "execution_count": 21,
   "id": "94a39f1a-ef8c-4ae5-9e65-01658db4795c",
   "metadata": {},
   "outputs": [
    {
     "ename": "AttributeError",
     "evalue": "module 'cv2' has no attribute 'destrouAllWindows'",
     "output_type": "error",
     "traceback": [
      "\u001b[1;31m---------------------------------------------------------------------------\u001b[0m",
      "\u001b[1;31mAttributeError\u001b[0m                            Traceback (most recent call last)",
      "Cell \u001b[1;32mIn[21], line 4\u001b[0m\n\u001b[0;32m      2\u001b[0m cv2\u001b[38;5;241m.\u001b[39mwaitKey(\u001b[38;5;241m0\u001b[39m)\n\u001b[0;32m      3\u001b[0m \u001b[38;5;66;03m# Đóng Window\u001b[39;00m\n\u001b[1;32m----> 4\u001b[0m cv2\u001b[38;5;241m.\u001b[39mdestrouAllWindows()\n",
      "\u001b[1;31mAttributeError\u001b[0m: module 'cv2' has no attribute 'destrouAllWindows'"
     ]
    }
   ],
   "source": [
    "# Chờ một khoảng thời gian\n",
    "cv2.waitKey(0)\n",
    "# Đóng Window\n",
    "cv2.destrouAllWindows()"
   ]
  },
  {
   "cell_type": "code",
   "execution_count": 49,
   "id": "8fb91e1d-b752-41cd-aec6-0f06f66df5f8",
   "metadata": {},
   "outputs": [
    {
     "data": {
      "text/plain": [
       "'Window'"
      ]
     },
     "metadata": {},
     "output_type": "display_data"
    },
    {
     "data": {
      "text/plain": [
       "array([[[63, 97, 86],\n",
       "        [57, 89, 78],\n",
       "        [60, 83, 75],\n",
       "        ...,\n",
       "        [27, 51, 43],\n",
       "        [27, 51, 43],\n",
       "        [27, 51, 43]],\n",
       "\n",
       "       [[46, 78, 67],\n",
       "        [50, 80, 69],\n",
       "        [61, 84, 76],\n",
       "        ...,\n",
       "        [27, 51, 43],\n",
       "        [27, 51, 43],\n",
       "        [27, 51, 43]],\n",
       "\n",
       "       [[69, 96, 86],\n",
       "        [67, 92, 82],\n",
       "        [66, 89, 81],\n",
       "        ...,\n",
       "        [27, 51, 43],\n",
       "        [27, 51, 43],\n",
       "        [27, 51, 43]],\n",
       "\n",
       "       ...,\n",
       "\n",
       "       [[19, 47, 41],\n",
       "        [17, 48, 41],\n",
       "        [19, 47, 41],\n",
       "        ...,\n",
       "        [ 9, 58, 26],\n",
       "        [ 8, 58, 26],\n",
       "        [ 9, 58, 26]],\n",
       "\n",
       "       [[17, 48, 41],\n",
       "        [15, 48, 41],\n",
       "        [17, 48, 41],\n",
       "        ...,\n",
       "        [10, 61, 27],\n",
       "        [ 8, 62, 27],\n",
       "        [ 9, 60, 26]],\n",
       "\n",
       "       [[15, 48, 41],\n",
       "        [15, 48, 41],\n",
       "        [15, 48, 41],\n",
       "        ...,\n",
       "        [11, 65, 30],\n",
       "        [10, 64, 29],\n",
       "        [10, 64, 29]]], dtype=uint8)"
      ]
     },
     "metadata": {},
     "output_type": "display_data"
    }
   ],
   "source": [
    "imgAlt2 = img.copy()\n",
    "\n",
    "# Change pixel value\n",
    "height, width, z = img.shape\n",
    "quaterH, quaterW = height / 2, width / 2\n",
    "\n",
    "# Green color\n",
    "greenColor = (0, 255, 0)\n",
    "\n",
    "# Change color of the image by one div four of the image (bottom right)\n",
    "for y in range(int(quaterH), int(height)):\n",
    "    for x in range(int(quaterW), int(width)):\n",
    "        imgAlt2[y, x] = greenColor\n",
    "\n",
    "display('Window', img)"
   ]
  },
  {
   "cell_type": "code",
   "execution_count": null,
   "id": "5b03fd89-4817-41e0-a2b1-9d03963d2213",
   "metadata": {},
   "outputs": [],
   "source": []
  }
 ],
 "metadata": {
  "kernelspec": {
   "display_name": "Python 3 (ipykernel)",
   "language": "python",
   "name": "python3"
  },
  "language_info": {
   "codemirror_mode": {
    "name": "ipython",
    "version": 3
   },
   "file_extension": ".py",
   "mimetype": "text/x-python",
   "name": "python",
   "nbconvert_exporter": "python",
   "pygments_lexer": "ipython3",
   "version": "3.12.4"
  }
 },
 "nbformat": 4,
 "nbformat_minor": 5
}
