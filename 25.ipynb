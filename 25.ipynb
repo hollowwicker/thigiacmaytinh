{
 "cells": [
  {
   "cell_type": "code",
   "execution_count": 2,
   "id": "02e21c28-259c-4a03-94bc-2a0f75f9fd6d",
   "metadata": {},
   "outputs": [],
   "source": [
    "import cv2"
   ]
  },
  {
   "cell_type": "code",
   "execution_count": 4,
   "id": "9e651bec-1c9e-4408-8679-c6a1d6489c6a",
   "metadata": {},
   "outputs": [],
   "source": [
    "def display(title, img):\n",
    "    cv2.imshow(title, img)\n",
    "    # Chờ một khoảng thời gian\n",
    "    cv2.waitKey(0)\n",
    "    # Đóng window\n",
    "    cv2.destroyWindow(title)"
   ]
  },
  {
   "cell_type": "code",
   "execution_count": 6,
   "id": "bc90f66f-4241-4f90-96b7-8067ca79cad5",
   "metadata": {},
   "outputs": [],
   "source": [
    "# Khởi tạo Haar Cascade Classifier cho nhân diện khuôn mặt\n",
    "face_cascade = cv2.CascadeClassifier('./data/haarcascade_frontalface_default.xml')\n",
    "eye_cascade = cv2.CascadeClassifier('./data/haarcascade_eye_tree_eyeglasses.xml')"
   ]
  },
  {
   "cell_type": "code",
   "execution_count": 8,
   "id": "172d9be6-2d9b-45c9-a4f6-65453141de5d",
   "metadata": {},
   "outputs": [],
   "source": [
    "# Đọc ảnh\n",
    "img = cv2.imread('C:/bai tap it/hinhanh/image_580.jpg')\n"
   ]
  },
  {
   "cell_type": "code",
   "execution_count": 10,
   "id": "f14d7f45-9b16-4c5a-a518-afa02249d8e9",
   "metadata": {},
   "outputs": [],
   "source": [
    "# Chuyển sang ảnh xám\n",
    "gray = cv2.cvtColor(img, cv2.COLOR_BGR2GRAY)"
   ]
  },
  {
   "cell_type": "code",
   "execution_count": 12,
   "id": "6d999b64-2665-4393-9552-50ed0c0e3f72",
   "metadata": {},
   "outputs": [],
   "source": [
    "# Nhận diện khuôn mặt\n",
    "faces = face_cascade.detectMultiScale(gray, scaleFactor=1.1, minNeighbors=5, minSize=(30,30))\n",
    "# Nhận diện mắt\n",
    "eyes = eye_cascade.detectMultiScale(gray, scaleFactor=1.1, minNeighbors=1, minSize=(5,5))\n",
    "# Vẽ hộp chứa khuôn mặt\n",
    "for (x, y, w, h) in faces:\n",
    "    cv2.rectangle(img, (x, y), (x+w, y+h), (0, 255,0), 2)\n",
    "    # Vẽ hộp chứa khuôn mặt\n",
    "for (x, y, w, h) in eyes:\n",
    "    cv2.rectangle(img, (x, y), (x+w, y+h), (255, 0,0), 2)"
   ]
  },
  {
   "cell_type": "code",
   "execution_count": 14,
   "id": "a04c9181-d073-4b2a-94ce-6ca1c0d69128",
   "metadata": {},
   "outputs": [],
   "source": [
    "display('Faces: ', img)\n"
   ]
  },
  {
   "cell_type": "code",
   "execution_count": null,
   "id": "867d0d9d-554d-4483-8ce3-7d6e1a569033",
   "metadata": {},
   "outputs": [],
   "source": []
  },
  {
   "cell_type": "code",
   "execution_count": null,
   "id": "da141eb9-4eae-4917-b0e9-49cdf61ccf53",
   "metadata": {},
   "outputs": [],
   "source": []
  },
  {
   "cell_type": "code",
   "execution_count": null,
   "id": "571ccc51-6d65-446f-982a-06cc51abc4bb",
   "metadata": {},
   "outputs": [],
   "source": []
  },
  {
   "cell_type": "code",
   "execution_count": null,
   "id": "e94c6022-fc75-4f77-9600-d6f8f8f3c334",
   "metadata": {},
   "outputs": [],
   "source": []
  }
 ],
 "metadata": {
  "kernelspec": {
   "display_name": "Python 3 (ipykernel)",
   "language": "python",
   "name": "python3"
  },
  "language_info": {
   "codemirror_mode": {
    "name": "ipython",
    "version": 3
   },
   "file_extension": ".py",
   "mimetype": "text/x-python",
   "name": "python",
   "nbconvert_exporter": "python",
   "pygments_lexer": "ipython3",
   "version": "3.12.4"
  }
 },
 "nbformat": 4,
 "nbformat_minor": 5
}
